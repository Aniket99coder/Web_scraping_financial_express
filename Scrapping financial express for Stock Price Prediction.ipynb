{
 "cells": [
  {
   "cell_type": "code",
   "execution_count": 7,
   "metadata": {},
   "outputs": [
    {
     "name": "stderr",
     "output_type": "stream",
     "text": [
      "C:\\Users\\Aniket\\Anaconda3\\lib\\site-packages\\ipykernel_launcher.py:13: DeprecationWarning: AppURLopener style of invoking requests is deprecated. Use newer urlopen functions/methods\n",
      "  del sys.path[0]\n"
     ]
    }
   ],
   "source": [
    "#Importing packages\n",
    "import bs4\n",
    "\n",
    "from bs4 import BeautifulSoup as soup\n",
    "\n",
    "#opening the page using the client\n",
    "\n",
    "import urllib.request\n",
    "\n",
    "class AppURLopener(urllib.request.FancyURLopener):\n",
    "    version = \"Mozilla/5.0\"\n",
    "\n",
    "opener = AppURLopener()\n",
    "\n",
    "#opening a file\n",
    "file_name=\"financial_scrapped_x_4.csv\"\n",
    "f=open(file_name,\"w\")\n",
    "headers=\"headline,news,link,time \\n\"\n",
    "\n",
    "#Writing into a csv file\n",
    "f.write(headers)\n",
    "\n",
    "\n",
    "for i in range(2,10):\n",
    "    response = opener.open('https://www.financialexpress.com/market/page/'+str(i))    \n",
    "    \n",
    "    page_html=response.read()\n",
    "    page_soup=soup(page_html,\"html.parser\")\n",
    "    \n",
    "    #Scrapping\n",
    "    diff_news=page_soup.find_all('div',{\"class\":\"content-list\"})\n",
    "\n",
    "    for news in diff_news:\n",
    "        news_headline=news.h3.text\n",
    "        news_brief=news.h4.text\n",
    "        news_link=news.h3.a['href']\n",
    "        news_time=news.find('span',{\"class\":\"minsago\"}).text \n",
    "\n",
    "        f.write(news_headline.replace(\",\",\"|\") +\",\" +news_brief.replace(\",\",\"|\") +\",\" + news_link +\",\"+news_time.replace(\",\",\" \") +\"\\n\")\n",
    "f.close()   \n",
    "\n"
   ]
  },
  {
   "cell_type": "code",
   "execution_count": null,
   "metadata": {},
   "outputs": [],
   "source": []
  }
 ],
 "metadata": {
  "kernelspec": {
   "display_name": "Python 3",
   "language": "python",
   "name": "python3"
  },
  "language_info": {
   "codemirror_mode": {
    "name": "ipython",
    "version": 3
   },
   "file_extension": ".py",
   "mimetype": "text/x-python",
   "name": "python",
   "nbconvert_exporter": "python",
   "pygments_lexer": "ipython3",
   "version": "3.6.5"
  }
 },
 "nbformat": 4,
 "nbformat_minor": 2
}
